{
 "cells": [
  {
   "cell_type": "code",
   "execution_count": 4,
   "metadata": {},
   "outputs": [
    {
     "name": "stdout",
     "output_type": "stream",
     "text": [
      "name\n",
      "name\n",
      "name\n",
      "name\n"
     ]
    }
   ],
   "source": [
    "\n",
    "\n",
    "def call(count):\n",
    "    if count == n:\n",
    "        return \n",
    "    print(name)\n",
    "    count += 1\n",
    "    call(count)\n",
    "\n",
    "n = int(input())\n",
    "name = input()\n",
    "call(0)\n"
   ]
  },
  {
   "cell_type": "code",
   "execution_count": 6,
   "metadata": {},
   "outputs": [
    {
     "name": "stdout",
     "output_type": "stream",
     "text": [
      "1\n",
      "2\n",
      "3\n",
      "4\n"
     ]
    }
   ],
   "source": [
    "\n",
    "n = int(input())\n",
    "\n",
    "def recur2(count):\n",
    "    if count == n:\n",
    "        return \n",
    "    count += 1 \n",
    "    print(count)\n",
    "    recur2(count)\n",
    "\n",
    "recur2(count = 0)"
   ]
  },
  {
   "cell_type": "code",
   "execution_count": 8,
   "metadata": {},
   "outputs": [
    {
     "name": "stdout",
     "output_type": "stream",
     "text": [
      "7\n",
      "6\n",
      "5\n",
      "4\n",
      "3\n",
      "2\n",
      "1\n"
     ]
    }
   ],
   "source": [
    "\n",
    "n = int(input())\n",
    "\n",
    "def recur3(count):\n",
    "    if count == 0:\n",
    "        return\n",
    "    print(count)\n",
    "    recur3(count - 1)\n",
    "\n",
    "recur3(count = n)"
   ]
  },
  {
   "cell_type": "code",
   "execution_count": 9,
   "metadata": {},
   "outputs": [
    {
     "name": "stdout",
     "output_type": "stream",
     "text": [
      "1\n",
      "2\n",
      "3\n",
      "4\n",
      "5\n"
     ]
    }
   ],
   "source": [
    "#backtracking\n",
    "\n",
    "n = int(input())\n",
    "\n",
    "def recur4(i):\n",
    "    if i == 0:\n",
    "        return \n",
    "    recur4(i - 1)\n",
    "    print(i)\n",
    "\n",
    "recur4(n)"
   ]
  },
  {
   "cell_type": "code",
   "execution_count": 14,
   "metadata": {},
   "outputs": [
    {
     "name": "stdout",
     "output_type": "stream",
     "text": [
      "3\n"
     ]
    }
   ],
   "source": [
    "n = int(input())\n",
    "res = 0\n",
    "\n",
    "def sum(res, n):\n",
    "    if n == 0:\n",
    "        print(res)\n",
    "        return\n",
    "    res += n\n",
    "    sum(res, n - 1)\n",
    "\n",
    "sum(res, n)\n"
   ]
  }
 ],
 "metadata": {
  "kernelspec": {
   "display_name": "Python 3",
   "language": "python",
   "name": "python3"
  },
  "language_info": {
   "codemirror_mode": {
    "name": "ipython",
    "version": 3
   },
   "file_extension": ".py",
   "mimetype": "text/x-python",
   "name": "python",
   "nbconvert_exporter": "python",
   "pygments_lexer": "ipython3",
   "version": "3.10.6"
  },
  "orig_nbformat": 4,
  "vscode": {
   "interpreter": {
    "hash": "916dbcbb3f70747c44a77c7bcd40155683ae19c65e1c03b4aa3499c5328201f1"
   }
  }
 },
 "nbformat": 4,
 "nbformat_minor": 2
}
